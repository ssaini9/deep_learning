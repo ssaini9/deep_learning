{
 "cells": [
  {
   "cell_type": "code",
   "execution_count": 5,
   "id": "8c97bda0-344f-4c01-9ad4-da015e07cd7d",
   "metadata": {},
   "outputs": [],
   "source": [
    "import torch"
   ]
  },
  {
   "cell_type": "markdown",
   "id": "a97bc839-45e6-4436-ac7a-8ac77b1cce9e",
   "metadata": {},
   "source": [
    "pytorch tensors - \n",
    "1. Tensor - similar to array or matrix, building blocks of neural network"
   ]
  },
  {
   "cell_type": "code",
   "execution_count": 6,
   "id": "5f50f6d3-999e-49dc-a300-518ed3b30a6b",
   "metadata": {},
   "outputs": [],
   "source": [
    "my_list = [[1,2,3],[4,5,6]]"
   ]
  },
  {
   "cell_type": "code",
   "execution_count": 7,
   "id": "d1812e0b-f478-4ffb-a866-3f17cf1cb0a6",
   "metadata": {},
   "outputs": [],
   "source": [
    "tensor = torch.tensor(my_list)"
   ]
  },
  {
   "cell_type": "code",
   "execution_count": 8,
   "id": "5cbd3d76-39ac-4001-ae4f-a3aec3c6809d",
   "metadata": {},
   "outputs": [
    {
     "data": {
      "text/plain": [
       "tensor([[1, 2, 3],\n",
       "        [4, 5, 6]])"
      ]
     },
     "execution_count": 8,
     "metadata": {},
     "output_type": "execute_result"
    }
   ],
   "source": [
    "tensor"
   ]
  },
  {
   "cell_type": "code",
   "execution_count": 9,
   "id": "8b6357e9-f592-4676-8053-c55b05710f93",
   "metadata": {},
   "outputs": [
    {
     "data": {
      "text/plain": [
       "torch.Size([2, 3])"
      ]
     },
     "execution_count": 9,
     "metadata": {},
     "output_type": "execute_result"
    }
   ],
   "source": [
    "tensor.shape"
   ]
  },
  {
   "cell_type": "code",
   "execution_count": 10,
   "id": "08fcb202-754f-466d-9553-2d268252ad17",
   "metadata": {},
   "outputs": [
    {
     "data": {
      "text/plain": [
       "torch.int64"
      ]
     },
     "execution_count": 10,
     "metadata": {},
     "output_type": "execute_result"
    }
   ],
   "source": [
    "tensor.dtype"
   ]
  },
  {
   "cell_type": "markdown",
   "id": "7f6134a0-0abf-44bc-853e-408314308cde",
   "metadata": {},
   "source": [
    "compatible tensors - when their shapes align"
   ]
  },
  {
   "cell_type": "markdown",
   "id": "92f3611d-293e-4ce5-a767-85ca66d7ab86",
   "metadata": {},
   "source": [
    "### Building Neural Network using Pytorch"
   ]
  },
  {
   "cell_type": "markdown",
   "id": "49e54c04-b953-435c-8cd8-c73040d0a381",
   "metadata": {},
   "source": [
    "input layer - hidden layer - output layer"
   ]
  },
  {
   "cell_type": "markdown",
   "id": "8622a2cf-10e5-4bd4-957c-edfb3e44b0e0",
   "metadata": {},
   "source": [
    "### 1. first neural network \n",
    "- this does not have hidden layer\n",
    "- output layer is linear layer\n",
    "- every output neuron connects to every input neurons - **fully connected network**\n",
    "- this is equivalent to a linear model - helps us understand without adding complexity"
   ]
  },
  {
   "cell_type": "code",
   "execution_count": 11,
   "id": "a45cec92-bb08-46e0-9453-d0441d27718e",
   "metadata": {},
   "outputs": [],
   "source": [
    "import torch.nn as nn "
   ]
  },
  {
   "cell_type": "markdown",
   "id": "82d7f144-76a5-4d8c-ba09-0540106bbff7",
   "metadata": {},
   "source": [
    "when designing a neural network, the input and output layer dimensions are pre-defined. \n",
    "- input neurons = features\n",
    "- output neurons = classes (we want to predict)"
   ]
  },
  {
   "cell_type": "code",
   "execution_count": 12,
   "id": "dcf94cee-9bbb-4ebd-b8e8-99f2fa525ea3",
   "metadata": {},
   "outputs": [],
   "source": [
    "# create input_tensor with three features - our input layer\n",
    "input_tensor = torch.tensor([[0.3471,0.4547,-0.2356]])"
   ]
  },
  {
   "cell_type": "code",
   "execution_count": 13,
   "id": "59c85887-3b6f-4792-9835-54a10ac96341",
   "metadata": {},
   "outputs": [],
   "source": [
    "# define our linear layer\n",
    "linear_layer = nn.Linear(\n",
    "    in_features =3,\n",
    "    out_features=2\n",
    ")\n"
   ]
  },
  {
   "cell_type": "code",
   "execution_count": 14,
   "id": "b31ff3db-eed3-4508-9ab0-3d70047d33a4",
   "metadata": {},
   "outputs": [
    {
     "name": "stdout",
     "output_type": "stream",
     "text": [
      "tensor([[-0.5322,  0.1088]], grad_fn=<AddmmBackward0>)\n"
     ]
    }
   ],
   "source": [
    "# pass input through linear layer\n",
    "output = linear_layer(input_tensor)\n",
    "print(output)"
   ]
  },
  {
   "cell_type": "markdown",
   "id": "60056714-10ec-4456-bbe6-ce53bb2a8357",
   "metadata": {},
   "source": [
    "when input_tensor is passed to linear_layer, a linear function is performed to include weights and biases, each linear_layer has sets of weights and biases - these are the key quantities that define a neuron\n",
    "- **weight** : reflects the importance of different features\n",
    "- **bias** : provides the neuron with a baseline output\n",
    "    - bias are independent of the weights\n",
    "- at first, linear layer assigns random weights and biases and these are tuned later"
   ]
  },
  {
   "cell_type": "code",
   "execution_count": 15,
   "id": "a4b6054a-7856-4ec0-8baa-5550e18134c2",
   "metadata": {},
   "outputs": [
    {
     "name": "stdout",
     "output_type": "stream",
     "text": [
      "Parameter containing:\n",
      "tensor([[-0.3334, -0.2678, -0.4806],\n",
      "        [ 0.0719, -0.2007, -0.2185]], requires_grad=True)\n"
     ]
    }
   ],
   "source": [
    "print(linear_layer.weight)"
   ]
  },
  {
   "cell_type": "code",
   "execution_count": 16,
   "id": "e978265e-9930-4ecb-bcd7-89f162f9ccea",
   "metadata": {},
   "outputs": [
    {
     "name": "stdout",
     "output_type": "stream",
     "text": [
      "Parameter containing:\n",
      "tensor([-0.4080,  0.1236], requires_grad=True)\n"
     ]
    }
   ],
   "source": [
    "print(linear_layer.bias)"
   ]
  },
  {
   "cell_type": "markdown",
   "id": "6cfb0f42-f2b9-49ea-a8e7-b55ee66a7472",
   "metadata": {},
   "source": [
    "**example** - let's say we have a weather dataset with three features - temperature, humidity and wind and we want to predict whether it's going to rain or be cloudy\n",
    "1. humidity feature will have more significant weight compared to other features as it is a strong predictor of whethers it's going to rain or not\n",
    "2. the data is for tropical region with high probability of rain, so a **bias** is added to account for this baseline information.\n",
    "- with these information our model makes a prediction"
   ]
  },
  {
   "cell_type": "markdown",
   "id": "5d738790-cc05-4adb-b5e9-2edf4bfc9c86",
   "metadata": {},
   "source": [
    "### 2. Hidden Layers and Parameters"
   ]
  },
  {
   "cell_type": "markdown",
   "id": "cabc7382-6054-4c13-89f4-882503eac225",
   "metadata": {},
   "source": [
    "- here we will add more layers to help the network learn complex patterns\n",
    "- stack three linear layers using nn.Sequential\n",
    "- nn.Squential is a pytorch container for stacking layers in sequence\n",
    "- takes input - passes it to each linear layers in sequence - returns output\n",
    "- layers within nn.Sequential are hidden layers"
   ]
  },
  {
   "cell_type": "code",
   "execution_count": null,
   "id": "d204ac2a-3698-4669-b629-3aeb60693396",
   "metadata": {},
   "outputs": [],
   "source": [
    "# create network with three linear layers\n",
    "model = nn.Sequential(\n",
    "    nn.Linear(n_features, 8), #n_features represents number of input features\n",
    "    nn.Linear(8,4),\n",
    "    nn.Linear(4,n_classes) #n_classes represents number of output classes\n",
    ")"
   ]
  },
  {
   "cell_type": "markdown",
   "id": "fc7544f4-cb4e-4fa4-9727-f5c0416a0e12",
   "metadata": {},
   "source": [
    "- we can keep adding as many layers as we want as long as the input dimension of first layers matches the output dimension of the previous one"
   ]
  },
  {
   "cell_type": "code",
   "execution_count": null,
   "id": "78b9872c-9ef1-4793-aefd-184184461eb4",
   "metadata": {},
   "outputs": [],
   "source": [
    "# adding more layers  - three linear layers\n",
    "model = nn.Sequential(\n",
    "    nn.Linear(10,18), # takes 10 layers and output 18\n",
    "    nn.Linear(18,20), # takes 18 layers and output 20\n",
    "    nn.Linear(20,5) # takes 20 layers and output 5\n",
    ")"
   ]
  },
  {
   "cell_type": "markdown",
   "id": "cadc3f2f-b501-479a-b651-ec26479f74c1",
   "metadata": {},
   "source": [
    "1. **layers are made of neurons**\n",
    "- a layer is fully connected when each neuron links to all neurons in the previous layer\n",
    "- a neuron in a linear layer :\n",
    "    - performs a linear operation using all neurons from the previous layer\n",
    "    - has n+1 parameters - n from inputs and 1 from the bias\n",
    "2. **Paramters and model capacity**\n",
    "- more hidden layer = more parameters = higher model capacity ( can handle complex dataset but may take longer to train)\n",
    "- an effective way to assess a models capacity is by calculating it's total number of parameters"
   ]
  },
  {
   "cell_type": "code",
   "execution_count": null,
   "id": "b4f0fbb3-4f38-4259-8134-4d6d08cfbbcc",
   "metadata": {},
   "outputs": [],
   "source": [
    "# in 2 layer network \n",
    "model = nn.Sequential(nn.Linear(8,4),\n",
    "                      nn.Linear(4,2))"
   ]
  },
  {
   "cell_type": "markdown",
   "id": "6b320c38-0b1f-42bd-9b42-ece077c76732",
   "metadata": {},
   "source": [
    "**manual paramter calculation:**\n",
    "- first layer has 4 neurons, each neuron has 8+1 (8 weights and 1 bias) parameters. 9 times 4 = 36 parameters\n",
    "- second layer has 2 neurons, each neuron has 4+1 parameters. 5 times 2 = 10 parameters\n",
    "- in total this model has - 36 + 10 = 46 learnable parameters\n",
    "\n",
    "we can do this manual calculation in python using .numel() method\n",
    "- .numel() : returns the number of elements in the tensor"
   ]
  },
  {
   "cell_type": "code",
   "execution_count": null,
   "id": "d6009938-fc2a-4de0-8326-e00f592f3e94",
   "metadata": {},
   "outputs": [],
   "source": [
    "total = 0\n",
    "for paramter in model.parameters():\n",
    "    total += paramater.numel()\n",
    "print(total)"
   ]
  },
  {
   "cell_type": "markdown",
   "id": "8f2ef3b6-186a-4e85-b6d7-8c417ed70f5c",
   "metadata": {},
   "source": [
    "understanding parameter count helps us understand model complexity and efficiency\n",
    "- too many parameters can lead to long training times or overfitting\n",
    "- too few parameters might limit learning capacity"
   ]
  },
  {
   "cell_type": "code",
   "execution_count": null,
   "id": "7fa49501-64d1-488a-8dd9-6feb8aa71fc2",
   "metadata": {},
   "outputs": [],
   "source": []
  },
  {
   "cell_type": "code",
   "execution_count": null,
   "id": "8836a1df-7061-430e-987e-51280b611a2c",
   "metadata": {},
   "outputs": [],
   "source": []
  },
  {
   "cell_type": "code",
   "execution_count": null,
   "id": "2108610b-c25b-46da-99dd-66857860599d",
   "metadata": {},
   "outputs": [],
   "source": []
  },
  {
   "cell_type": "code",
   "execution_count": null,
   "id": "a5e1275b-d6cf-4f18-9aac-bb5261e14ce2",
   "metadata": {},
   "outputs": [],
   "source": []
  }
 ],
 "metadata": {
  "kernelspec": {
   "display_name": "Python 3 (ipykernel)",
   "language": "python",
   "name": "python3"
  },
  "language_info": {
   "codemirror_mode": {
    "name": "ipython",
    "version": 3
   },
   "file_extension": ".py",
   "mimetype": "text/x-python",
   "name": "python",
   "nbconvert_exporter": "python",
   "pygments_lexer": "ipython3",
   "version": "3.10.16"
  }
 },
 "nbformat": 4,
 "nbformat_minor": 5
}
